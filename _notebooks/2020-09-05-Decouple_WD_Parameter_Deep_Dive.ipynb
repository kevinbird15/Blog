{
 "cells": [
  {
   "cell_type": "markdown",
   "metadata": {},
   "source": [
    "# \"Decouple_WD Parameter Deep Dive\"\n",
    "> \"A deep dive into decouple_wd along with the code used to explore the concepts that come along with it\"\n",
    "\n",
    "- toc: true\n",
    "- branch: master\n",
    "- badges: true\n",
    "- comments: true\n",
    "- author: Kevin Bird\n",
    "- categories: [no second turkey]"
   ]
  },
  {
   "cell_type": "markdown",
   "metadata": {},
   "source": [
    "### Summary"
   ]
  },
  {
   "cell_type": "markdown",
   "metadata": {},
   "source": [
    "If you don't plan to use weight decay (wd=0), you can safely ignore this parameter.  \n",
    "\n",
    "If you do plan to use weight decay, but don't have any idea whether to decouple weight decay or not, use the default of True.  It works the same as l2_reg on sgd and doesn't have \n",
    "\n",
    "I don't currently know when you would want to use l2_reg vs weight decay unless trying to recreate historical results.  \n",
    "\n",
    "* [If wd == 0: don't worry about decouple_wd](#weight_decay)\n",
    "* [If decouple_wd is True, weight_decay is used, otherwise, l2_reg is used](#Look-at-SGD-definition)\n",
    "* [weight_decay updates the value of params, l2_reg updates the param's gradients](#Weight_Decay-param-viewing)\n",
    "* [weight_decay is directly tied to learning rate, l2_reg is not](#weight_decay)\n",
    "* [Further Reading](#Further-Reading)"
   ]
  },
  {
   "cell_type": "markdown",
   "metadata": {},
   "source": [
    "This is the first blog post in my [No Second Turkey](http://impartialderivative.com/no%20second%20turkey/2020/09/04/The-No-Second-Turkey-Learning-Concept.html) series.  ~~The concept that will be explored today is hyperparameters for SGD. Let's just dive right in:~~"
   ]
  },
  {
   "cell_type": "markdown",
   "metadata": {},
   "source": [
    "Initially, my plan was to explore hyperparameters for SGD, but during the first hyperparameter that I looked at, I was derailed.  In this case, I felt like the exploration for this one hyperparameter was interesting enough to have its own post.  We will explore more hyperparameters in the future, but for now, I am going to publish a deep dive on just `decouple_wd`.  "
   ]
  },
  {
   "cell_type": "code",
   "execution_count": 66,
   "metadata": {},
   "outputs": [],
   "source": [
    "from fastai.vision.all import *"
   ]
  },
  {
   "cell_type": "code",
   "execution_count": 9,
   "metadata": {},
   "outputs": [
    {
     "data": {
      "text/plain": [
       "<function fastai.optimizer.SGD(params, lr, mom=0.0, wd=0.0, decouple_wd=True)>"
      ]
     },
     "execution_count": 9,
     "metadata": {},
     "output_type": "execute_result"
    }
   ],
   "source": [
    "SGD"
   ]
  },
  {
   "cell_type": "markdown",
   "metadata": {},
   "source": [
    "I am going to dig into `decouple_wd`.  It looks like it defaults to True, but what is that actually changing?  First, let's look at the sgd code: "
   ]
  },
  {
   "cell_type": "markdown",
   "metadata": {},
   "source": [
    "##### Look at SGD definition"
   ]
  },
  {
   "cell_type": "code",
   "execution_count": 12,
   "metadata": {},
   "outputs": [],
   "source": [
    "SGD??"
   ]
  },
  {
   "attachments": {
    "image.png": {
     "image/png": "[encoded data removed]"
    }
   },
   "cell_type": "markdown",
   "metadata": {},
   "source": [
    "![image.png](attachment:image.png)"
   ]
  },
  {
   "cell_type": "markdown",
   "metadata": {},
   "source": [
    "Answers lead to more questions.  It looks like decouple_wd determines if `weight_decay` or `l2_reg` should be added to the callback list.  My initial hunch is that these are two different forms of weight decay, but let's dig into each of them and see how they both work.  "
   ]
  },
  {
   "cell_type": "code",
   "execution_count": null,
   "metadata": {},
   "outputs": [],
   "source": [
    "cbs = [weight_decay] if decouple_wd else [l2_reg]"
   ]
  },
  {
   "cell_type": "code",
   "execution_count": 13,
   "metadata": {},
   "outputs": [],
   "source": [
    "weight_decay??"
   ]
  },
  {
   "cell_type": "code",
   "execution_count": null,
   "metadata": {},
   "outputs": [],
   "source": [
    "def weight_decay(p, lr, wd, do_wd=True, **kwargs):\n",
    "    \"Weight decay as decaying `p` with `lr*wd`\"\n",
    "    if do_wd and wd!=0: p.data.mul_(1 - lr*wd)"
   ]
  },
  {
   "cell_type": "code",
   "execution_count": 14,
   "metadata": {},
   "outputs": [],
   "source": [
    "l2_reg??"
   ]
  },
  {
   "cell_type": "code",
   "execution_count": null,
   "metadata": {},
   "outputs": [],
   "source": [
    "def l2_reg(p, lr, wd, do_wd=True, **kwargs):\n",
    "    \"L2 regularization as adding `wd*p` to `p.grad`\"\n",
    "    if do_wd and wd!=0: p.grad.data.add_(p.data, alpha=wd)"
   ]
  },
  {
   "cell_type": "markdown",
   "metadata": {},
   "source": [
    "Looking at the arguments each of these take in, it looks like they take in the exact same information.  So it is really saying do I want to do thing 1 with these variables, or do I want to do thing 2?"
   ]
  },
  {
   "cell_type": "markdown",
   "metadata": {},
   "source": [
    "First, I'm going to discect weight decay:"
   ]
  },
  {
   "cell_type": "markdown",
   "metadata": {},
   "source": [
    "##### weight_decay"
   ]
  },
  {
   "cell_type": "markdown",
   "metadata": {},
   "source": [
    "Part 1: `if do_wd and wd!=0:` So this first part is already super important for our problem.  Since we have wd set to 0 by default, neither of these functions will do anything in the beginning.  That kind of answers my initial question of whether decouple_wd should be True or False, but let's finish exploring this branch while we are going down it.  "
   ]
  },
  {
   "cell_type": "markdown",
   "metadata": {},
   "source": [
    "Part 2: `p.data.mul_(1 - lr*wd)` This is a nice clean line of code, but what does it actually mean/do?"
   ]
  },
  {
   "cell_type": "markdown",
   "metadata": {},
   "source": [
    "`p` represents our **params** (went and verified in [optimizer code](https://github.com/fastai/fastai/blob/master/fastai/optimizer.py#L82)).  \n",
    "\n",
    "This is a Tensor and I can tell that because of how `p.data` is used. That is usually a giveaway that the parameter is having its gradients calculated.  (You'll get a big error if you try to work with p directly instead of p.data)  \n",
    "  \n",
    "`mul_` is saying multiply something and store it back into p.data.  [I'm going to look at up for sure mostly because I want to see what type of multiplication is used.](https://pytorch.org/docs/stable/generated/torch.mul.html).  The underscore runs the same function, but in pytorch, that is shorthand that says to store the results back into the tensor (similar to inplace=True in pandas if you are more familiar with that library). \n",
    "  \n",
    "`1 - lr*wd` So when wd = 0, this would just multiple the params by 1 so there would be no affect which is also probably why it is skipped in that case.  Let's think about what happens in the alternative case though.  In the case where wd = 0.1 and lr = 1, this constant would be 0.9 so it would take every weight and cut it down.  So in practice, what does this do for us?  Our model can still tell the model to step back in the same direction.  I may have to think about this a bit more to understand why we would want to use weight decay.  For now, I am going to move on to l2_reg.  "
   ]
  },
  {
   "cell_type": "markdown",
   "metadata": {},
   "source": [
    "##### L2_reg"
   ]
  },
  {
   "cell_type": "markdown",
   "metadata": {},
   "source": [
    "L2_reg also checks if do_wd and wd!=0 similar to how weight decay works.  This is a bypass valve that says don't waste your calculations if wd is 0 or if you decide that you don't want any weight decay.  \n",
    "  \n",
    "`p.grad.data` is a lot different than p.data from weight_decay.  p.grad.data is actually looking at the gradient that was calculated.  \n",
    "  \n",
    "  \n",
    "`add_` is then used to add a number into the gradients.  \n",
    "\n",
    "`(p.data, alpha=wd)` \n",
    "\n",
    "I'm going to analyze this third part slightly out of order.  First I want to know what `alpha=wd` means:  \n",
    "Torch's add function has an argument called alpha.  Alpha is a scalar that will be multiplied with the first argument.  In our case, `p.data`.  \n",
    "\n",
    "So our model weights get multiplied by a scalar value and that value is added to the gradient.  Let's try to figure out what this is trying to accomplish."
   ]
  },
  {
   "cell_type": "markdown",
   "metadata": {},
   "source": [
    "So, weight_decay dampens down the model's params directly `1-lr*wd` amount.  My initial thoughts with this is that I don't like that `lr` is involved in this process.  I'm not sure if that is an important piece that I'm not understanding, but it is something that I would rather not have involved in my weight_decay parameter.  \n",
    "  \n",
    "l2_reg adds a small value associated with the weights directly to the gradient.  This isn't intuitive to me.  I'm curious why adding a value that is scaled with a small value `wd` would be helpful for our model.  If anything, it seems like it would just end up adding a small amount of noise.  This one doesn't use the learning rate which I like."
   ]
  },
  {
   "cell_type": "markdown",
   "metadata": {},
   "source": [
    "Since I don't feel like I currently have a good understanding of either weight_decay or l2_reg, I'm going to go do some searching and see if I can find some intuition around these two concepts.  "
   ]
  },
  {
   "cell_type": "markdown",
   "metadata": {},
   "source": [
    "##### Further Reading"
   ]
  },
  {
   "cell_type": "markdown",
   "metadata": {},
   "source": [
    "Here are a few links to explore from members of the fastai community: \n",
    "* https://blog.janestreet.com/l2-regularization-and-batch-norm/ (ChrisK)  \n",
    "* https://arxiv.org/abs/1711.05101 (ilovescience)\n",
    "* https://en.wikipedia.org/wiki/Tikhonov_regularization (ilovescience)"
   ]
  },
  {
   "cell_type": "code",
   "execution_count": 20,
   "metadata": {},
   "outputs": [],
   "source": [
    "#from fastai.test_utils import *"
   ]
  },
  {
   "cell_type": "markdown",
   "metadata": {},
   "source": [
    "I'm going to pull in the tst_param function which allows using a specific value and giving a specific gradient for the tensor."
   ]
  },
  {
   "cell_type": "markdown",
   "metadata": {},
   "source": [
    "##### Exploring single param"
   ]
  },
  {
   "cell_type": "code",
   "execution_count": 21,
   "metadata": {},
   "outputs": [],
   "source": [
    "#shamelessly stolen from fastai docs: https://docs.fast.ai/optimizer#sgd_step\n",
    "def tst_param(val, grad=None):\n",
    "    \"Create a tensor with `val` and a gradient of `grad` for testing\"\n",
    "    res = tensor([val]).float()\n",
    "    res.grad = tensor([val/10 if grad is None else grad]).float()\n",
    "    return res"
   ]
  },
  {
   "cell_type": "code",
   "execution_count": 39,
   "metadata": {},
   "outputs": [],
   "source": [
    "p = tst_param(1, 0.2)"
   ]
  },
  {
   "cell_type": "code",
   "execution_count": 40,
   "metadata": {},
   "outputs": [
    {
     "data": {
      "text/plain": [
       "tensor([1.])"
      ]
     },
     "execution_count": 40,
     "metadata": {},
     "output_type": "execute_result"
    }
   ],
   "source": [
    "p"
   ]
  },
  {
   "cell_type": "code",
   "execution_count": 41,
   "metadata": {},
   "outputs": [
    {
     "data": {
      "text/plain": [
       "tensor([0.2000])"
      ]
     },
     "execution_count": 41,
     "metadata": {},
     "output_type": "execute_result"
    }
   ],
   "source": [
    "p.grad"
   ]
  },
  {
   "cell_type": "code",
   "execution_count": 42,
   "metadata": {},
   "outputs": [],
   "source": [
    "weight_decay(p, 1., 0.1)"
   ]
  },
  {
   "cell_type": "code",
   "execution_count": 43,
   "metadata": {
    "scrolled": true
   },
   "outputs": [
    {
     "data": {
      "text/plain": [
       "tensor([0.9000])"
      ]
     },
     "execution_count": 43,
     "metadata": {},
     "output_type": "execute_result"
    }
   ],
   "source": [
    "p"
   ]
  },
  {
   "cell_type": "code",
   "execution_count": 44,
   "metadata": {},
   "outputs": [
    {
     "data": {
      "text/plain": [
       "tensor([0.2000])"
      ]
     },
     "execution_count": 44,
     "metadata": {},
     "output_type": "execute_result"
    }
   ],
   "source": [
    "p.grad"
   ]
  },
  {
   "cell_type": "markdown",
   "metadata": {},
   "source": [
    "I was going to cycle through some numbers, but instead I'm going to cycle through a bunch and plot the output of p and p.grad"
   ]
  },
  {
   "cell_type": "code",
   "execution_count": 52,
   "metadata": {},
   "outputs": [],
   "source": [
    "learning_rate_l = [0.001, 0.01, 0.1, 1]\n",
    "weight_decay_l = [0.001, 0.01, 0.1, 1]"
   ]
  },
  {
   "cell_type": "code",
   "execution_count": 56,
   "metadata": {},
   "outputs": [],
   "source": [
    "learning_rate_grid, weight_decay_grid = np.meshgrid(learning_rate_l, weight_decay_l)"
   ]
  },
  {
   "cell_type": "code",
   "execution_count": 57,
   "metadata": {},
   "outputs": [
    {
     "data": {
      "text/plain": [
       "array([[0.001, 0.01 , 0.1  , 1.   ],\n",
       "       [0.001, 0.01 , 0.1  , 1.   ],\n",
       "       [0.001, 0.01 , 0.1  , 1.   ],\n",
       "       [0.001, 0.01 , 0.1  , 1.   ]])"
      ]
     },
     "execution_count": 57,
     "metadata": {},
     "output_type": "execute_result"
    }
   ],
   "source": [
    "learning_rate_grid"
   ]
  },
  {
   "cell_type": "code",
   "execution_count": 58,
   "metadata": {
    "scrolled": true
   },
   "outputs": [
    {
     "data": {
      "text/plain": [
       "array([[0.001, 0.001, 0.001, 0.001],\n",
       "       [0.01 , 0.01 , 0.01 , 0.01 ],\n",
       "       [0.1  , 0.1  , 0.1  , 0.1  ],\n",
       "       [1.   , 1.   , 1.   , 1.   ]])"
      ]
     },
     "execution_count": 58,
     "metadata": {},
     "output_type": "execute_result"
    }
   ],
   "source": [
    "weight_decay_grid"
   ]
  },
  {
   "cell_type": "code",
   "execution_count": 63,
   "metadata": {},
   "outputs": [],
   "source": [
    "for lr_list,wd_list in zip(learning_rate_grid, weight_decay_grid):\n",
    "    ;"
   ]
  },
  {
   "cell_type": "code",
   "execution_count": 68,
   "metadata": {},
   "outputs": [
    {
     "name": "stdout",
     "output_type": "stream",
     "text": [
      "lr: 0.001 wd: 1.0 - tensor([0.9990])\n",
      "lr: 0.001 wd: 1.0 - tensor([0.2000])\n",
      "lr: 0.01 wd: 1.0 - tensor([0.9900])\n",
      "lr: 0.01 wd: 1.0 - tensor([0.2000])\n",
      "lr: 0.1 wd: 1.0 - tensor([0.9000])\n",
      "lr: 0.1 wd: 1.0 - tensor([0.2000])\n",
      "lr: 1.0 wd: 1.0 - tensor([0.])\n",
      "lr: 1.0 wd: 1.0 - tensor([0.2000])\n"
     ]
    }
   ],
   "source": [
    "p_val = []\n",
    "pg_val = []\n",
    "for lr,wd in zip(lr_list, wd_list):\n",
    "    p = tst_param(1, 0.2)\n",
    "    weight_decay(p, lr, wd)\n",
    "    p_val.append(p.data)\n",
    "    pg_val.append(p.grad.data)\n",
    "    print(\"lr:\",lr,\"wd:\",wd, \"-\", p.data)\n",
    "    print(\"lr:\",lr,\"wd:\",wd, \"-\", p.grad.data)"
   ]
  },
  {
   "cell_type": "code",
   "execution_count": 69,
   "metadata": {},
   "outputs": [
    {
     "data": {
      "text/plain": [
       "[tensor([0.9990]), tensor([0.9900]), tensor([0.9000]), tensor([0.])]"
      ]
     },
     "execution_count": 69,
     "metadata": {},
     "output_type": "execute_result"
    }
   ],
   "source": [
    "p_val"
   ]
  },
  {
   "cell_type": "code",
   "execution_count": 70,
   "metadata": {},
   "outputs": [
    {
     "data": {
      "text/plain": [
       "[tensor([0.2000]), tensor([0.2000]), tensor([0.2000]), tensor([0.2000])]"
      ]
     },
     "execution_count": 70,
     "metadata": {},
     "output_type": "execute_result"
    }
   ],
   "source": [
    "pg_val"
   ]
  },
  {
   "cell_type": "markdown",
   "metadata": {},
   "source": [
    "##### Weight_Decay param viewing"
   ]
  },
  {
   "cell_type": "code",
   "execution_count": 78,
   "metadata": {
    "scrolled": true
   },
   "outputs": [
    {
     "name": "stdout",
     "output_type": "stream",
     "text": [
      "param|  lr: 0.001 wd: 0.001 - tensor([1.0000])\n",
      "grad |  lr: 0.001 wd: 0.001 - tensor([0.2000])\n",
      "param|  lr: 0.01 wd: 0.001 - tensor([1.0000])\n",
      "grad |  lr: 0.01 wd: 0.001 - tensor([0.2000])\n",
      "param|  lr: 0.1 wd: 0.001 - tensor([0.9999])\n",
      "grad |  lr: 0.1 wd: 0.001 - tensor([0.2000])\n",
      "param|  lr: 1.0 wd: 0.001 - tensor([0.9990])\n",
      "grad |  lr: 1.0 wd: 0.001 - tensor([0.2000])\n",
      "param|  lr: 0.001 wd: 0.01 - tensor([1.0000])\n",
      "grad |  lr: 0.001 wd: 0.01 - tensor([0.2000])\n",
      "param|  lr: 0.01 wd: 0.01 - tensor([0.9999])\n",
      "grad |  lr: 0.01 wd: 0.01 - tensor([0.2000])\n",
      "param|  lr: 0.1 wd: 0.01 - tensor([0.9990])\n",
      "grad |  lr: 0.1 wd: 0.01 - tensor([0.2000])\n",
      "param|  lr: 1.0 wd: 0.01 - tensor([0.9900])\n",
      "grad |  lr: 1.0 wd: 0.01 - tensor([0.2000])\n",
      "param|  lr: 0.001 wd: 0.1 - tensor([0.9999])\n",
      "grad |  lr: 0.001 wd: 0.1 - tensor([0.2000])\n",
      "param|  lr: 0.01 wd: 0.1 - tensor([0.9990])\n",
      "grad |  lr: 0.01 wd: 0.1 - tensor([0.2000])\n",
      "param|  lr: 0.1 wd: 0.1 - tensor([0.9900])\n",
      "grad |  lr: 0.1 wd: 0.1 - tensor([0.2000])\n",
      "param|  lr: 1.0 wd: 0.1 - tensor([0.9000])\n",
      "grad |  lr: 1.0 wd: 0.1 - tensor([0.2000])\n",
      "param|  lr: 0.001 wd: 1.0 - tensor([0.9990])\n",
      "grad |  lr: 0.001 wd: 1.0 - tensor([0.2000])\n",
      "param|  lr: 0.01 wd: 1.0 - tensor([0.9900])\n",
      "grad |  lr: 0.01 wd: 1.0 - tensor([0.2000])\n",
      "param|  lr: 0.1 wd: 1.0 - tensor([0.9000])\n",
      "grad |  lr: 0.1 wd: 1.0 - tensor([0.2000])\n",
      "param|  lr: 1.0 wd: 1.0 - tensor([0.])\n",
      "grad |  lr: 1.0 wd: 1.0 - tensor([0.2000])\n"
     ]
    }
   ],
   "source": [
    "p_val = []\n",
    "pg_val = []\n",
    "for lr_list,wd_list in zip(learning_rate_grid, weight_decay_grid):\n",
    "    for lr,wd in zip(lr_list, wd_list):\n",
    "        p = tst_param(1, 0.2)\n",
    "        weight_decay(p, lr, wd)\n",
    "        p_val.append(p.data)\n",
    "        pg_val.append(p.grad.data)\n",
    "        print(\"param| \",\"lr:\",lr,\"wd:\",wd, \"-\", p.data)\n",
    "        print(\"grad | \",\"lr:\",lr,\"wd:\",wd, \"-\", p.grad.data)"
   ]
  },
  {
   "cell_type": "code",
   "execution_count": 79,
   "metadata": {},
   "outputs": [
    {
     "data": {
      "text/plain": [
       "[<matplotlib.lines.Line2D at 0x7f909051b6a0>]"
      ]
     },
     "execution_count": 79,
     "metadata": {},
     "output_type": "execute_result"
    },
    {
     "data": {
      "image/png": "[encoded data removed]",
      "text/plain": [
       "<Figure size 432x288 with 1 Axes>"
      ]
     },
     "metadata": {
      "needs_background": "light"
     },
     "output_type": "display_data"
    }
   ],
   "source": [
    "#param updates for weight_decay\n",
    "plt.plot(p_val)"
   ]
  },
  {
   "cell_type": "code",
   "execution_count": 80,
   "metadata": {},
   "outputs": [
    {
     "data": {
      "text/plain": [
       "[<matplotlib.lines.Line2D at 0x7f90968fbd30>]"
      ]
     },
     "execution_count": 80,
     "metadata": {},
     "output_type": "execute_result"
    },
    {
     "data": {
      "image/png": "[encoded data removed]",
      "text/plain": [
       "<Figure size 432x288 with 1 Axes>"
      ]
     },
     "metadata": {
      "needs_background": "light"
     },
     "output_type": "display_data"
    }
   ],
   "source": [
    "#gradient doesn't update for weight_decay\n",
    "plt.plot(pg_val)"
   ]
  },
  {
   "cell_type": "code",
   "execution_count": 74,
   "metadata": {},
   "outputs": [],
   "source": [
    "weight_decay??"
   ]
  },
  {
   "cell_type": "code",
   "execution_count": 72,
   "metadata": {},
   "outputs": [
    {
     "data": {
      "text/plain": [
       "[tensor([1.0000]),\n",
       " tensor([1.0000]),\n",
       " tensor([0.9999]),\n",
       " tensor([0.9990]),\n",
       " tensor([1.0000]),\n",
       " tensor([0.9999]),\n",
       " tensor([0.9990]),\n",
       " tensor([0.9900]),\n",
       " tensor([0.9999]),\n",
       " tensor([0.9990]),\n",
       " tensor([0.9900]),\n",
       " tensor([0.9000]),\n",
       " tensor([0.9990]),\n",
       " tensor([0.9900]),\n",
       " tensor([0.9000]),\n",
       " tensor([0.])]"
      ]
     },
     "execution_count": 72,
     "metadata": {},
     "output_type": "execute_result"
    }
   ],
   "source": [
    "p_val"
   ]
  },
  {
   "cell_type": "code",
   "execution_count": 73,
   "metadata": {},
   "outputs": [
    {
     "data": {
      "text/plain": [
       "[tensor([0.2000]),\n",
       " tensor([0.2000]),\n",
       " tensor([0.2000]),\n",
       " tensor([0.2000]),\n",
       " tensor([0.2000]),\n",
       " tensor([0.2000]),\n",
       " tensor([0.2000]),\n",
       " tensor([0.2000]),\n",
       " tensor([0.2000]),\n",
       " tensor([0.2000]),\n",
       " tensor([0.2000]),\n",
       " tensor([0.2000]),\n",
       " tensor([0.2000]),\n",
       " tensor([0.2000]),\n",
       " tensor([0.2000]),\n",
       " tensor([0.2000])]"
      ]
     },
     "execution_count": 73,
     "metadata": {},
     "output_type": "execute_result"
    }
   ],
   "source": [
    "pg_val"
   ]
  },
  {
   "cell_type": "markdown",
   "metadata": {},
   "source": [
    "Key Takeaways\n",
    "* The gradient doesn't change when doing weight decay\n",
    "* LR and WD are tied to each other lr*wd\n",
    "\n",
    "May be worth investigating adaptive learning rates with weight decay.  May end up with more weight decay than intended. "
   ]
  },
  {
   "cell_type": "markdown",
   "metadata": {},
   "source": [
    "Let's repeat that process for l2_reg"
   ]
  },
  {
   "cell_type": "code",
   "execution_count": null,
   "metadata": {},
   "outputs": [],
   "source": [
    "l2_reg()"
   ]
  },
  {
   "cell_type": "code",
   "execution_count": 75,
   "metadata": {},
   "outputs": [],
   "source": [
    "l2_reg??"
   ]
  },
  {
   "cell_type": "markdown",
   "metadata": {},
   "source": [
    "l2_reg takes in lr as a parameter, but it doesn't actually do anything with it.  So my guess is that it only has it as a parameter to keep it consistent with weight decay.  "
   ]
  },
  {
   "cell_type": "code",
   "execution_count": 82,
   "metadata": {},
   "outputs": [
    {
     "name": "stdout",
     "output_type": "stream",
     "text": [
      "lr: 0.001 wd: 0.001 - tensor([1.])\n",
      "lr: 0.001 wd: 0.001 - tensor([0.2010])\n",
      "lr: 0.01 wd: 0.001 - tensor([1.])\n",
      "lr: 0.01 wd: 0.001 - tensor([0.2010])\n",
      "lr: 0.1 wd: 0.001 - tensor([1.])\n",
      "lr: 0.1 wd: 0.001 - tensor([0.2010])\n",
      "lr: 1.0 wd: 0.001 - tensor([1.])\n",
      "lr: 1.0 wd: 0.001 - tensor([0.2010])\n",
      "lr: 0.001 wd: 0.01 - tensor([1.])\n",
      "lr: 0.001 wd: 0.01 - tensor([0.2100])\n",
      "lr: 0.01 wd: 0.01 - tensor([1.])\n",
      "lr: 0.01 wd: 0.01 - tensor([0.2100])\n",
      "lr: 0.1 wd: 0.01 - tensor([1.])\n",
      "lr: 0.1 wd: 0.01 - tensor([0.2100])\n",
      "lr: 1.0 wd: 0.01 - tensor([1.])\n",
      "lr: 1.0 wd: 0.01 - tensor([0.2100])\n",
      "lr: 0.001 wd: 0.1 - tensor([1.])\n",
      "lr: 0.001 wd: 0.1 - tensor([0.3000])\n",
      "lr: 0.01 wd: 0.1 - tensor([1.])\n",
      "lr: 0.01 wd: 0.1 - tensor([0.3000])\n",
      "lr: 0.1 wd: 0.1 - tensor([1.])\n",
      "lr: 0.1 wd: 0.1 - tensor([0.3000])\n",
      "lr: 1.0 wd: 0.1 - tensor([1.])\n",
      "lr: 1.0 wd: 0.1 - tensor([0.3000])\n",
      "lr: 0.001 wd: 1.0 - tensor([1.])\n",
      "lr: 0.001 wd: 1.0 - tensor([1.2000])\n",
      "lr: 0.01 wd: 1.0 - tensor([1.])\n",
      "lr: 0.01 wd: 1.0 - tensor([1.2000])\n",
      "lr: 0.1 wd: 1.0 - tensor([1.])\n",
      "lr: 0.1 wd: 1.0 - tensor([1.2000])\n",
      "lr: 1.0 wd: 1.0 - tensor([1.])\n",
      "lr: 1.0 wd: 1.0 - tensor([1.2000])\n"
     ]
    }
   ],
   "source": [
    "p_val = []\n",
    "pg_val = []\n",
    "for lr_list,wd_list in zip(learning_rate_grid, weight_decay_grid):\n",
    "    for lr,wd in zip(lr_list, wd_list):\n",
    "        p = tst_param(1, 0.2)\n",
    "        l2_reg(p, lr, wd)\n",
    "        p_val.append(p.data)\n",
    "        pg_val.append(p.grad.data)\n",
    "        print(\"lr:\",lr,\"wd:\",wd, \"-\", p.data)\n",
    "        print(\"lr:\",lr,\"wd:\",wd, \"-\", p.grad.data)"
   ]
  },
  {
   "cell_type": "code",
   "execution_count": 83,
   "metadata": {},
   "outputs": [
    {
     "data": {
      "text/plain": [
       "[<matplotlib.lines.Line2D at 0x7f9094e63b50>]"
      ]
     },
     "execution_count": 83,
     "metadata": {},
     "output_type": "execute_result"
    },
    {
     "data": {
      "image/png": "[encoded data removed]",
      "text/plain": [
       "<Figure size 432x288 with 1 Axes>"
      ]
     },
     "metadata": {
      "needs_background": "light"
     },
     "output_type": "display_data"
    }
   ],
   "source": [
    "plt.plot(p_val)"
   ]
  },
  {
   "cell_type": "code",
   "execution_count": 84,
   "metadata": {},
   "outputs": [
    {
     "data": {
      "text/plain": [
       "[<matplotlib.lines.Line2D at 0x7f9094690eb0>]"
      ]
     },
     "execution_count": 84,
     "metadata": {},
     "output_type": "execute_result"
    },
    {
     "data": {
      "image/png": "[encoded data removed]",
      "text/plain": [
       "<Figure size 432x288 with 1 Axes>"
      ]
     },
     "metadata": {
      "needs_background": "light"
     },
     "output_type": "display_data"
    }
   ],
   "source": [
    "plt.plot(pg_val)"
   ]
  },
  {
   "cell_type": "markdown",
   "metadata": {},
   "source": [
    "Key Takeaways l2_reg\n",
    "* The gradient is updated using wd*param (higher param values would have a higher weight decay penalty\n",
    "* param values remain unchanged when using l2_reg"
   ]
  },
  {
   "cell_type": "markdown",
   "metadata": {},
   "source": [
    "If I'm understanding the difference between l2_reg and weight_decay, l2_reg directly modifies the param gradient's by using a hyper parameter `wd` and the param values themselves.  \n",
    "  \n",
    "Whereas weight decay also has a `wd` parameter, but it uses that parameter alongside the `lr` to create a dampener on the weights.  So the higher the learning rate, the more weight_decay will dampen the params and same with wd.  "
   ]
  }
 ],
 "metadata": {
  "kernelspec": {
   "display_name": "Python 3",
   "language": "python",
   "name": "python3"
  },
  "language_info": {
   "codemirror_mode": {
    "name": "ipython",
    "version": 3
   },
   "file_extension": ".py",
   "mimetype": "text/x-python",
   "name": "python",
   "nbconvert_exporter": "python",
   "pygments_lexer": "ipython3",
   "version": "3.8.5"
  }
 },
 "nbformat": 4,
 "nbformat_minor": 4
}
